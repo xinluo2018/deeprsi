{
 "cells": [
  {
   "cell_type": "markdown",
   "metadata": {},
   "source": [
    "### Conversion of locations in different spatial reference systems.\n",
    "1) Between geographical location the image location.\n",
    "2) The geographical locations of different coordinate systems."
   ]
  },
  {
   "cell_type": "code",
   "execution_count": 1,
   "metadata": {},
   "outputs": [],
   "source": [
    "from pyrsimg import get_utm_zone, coor2coor\n",
    "from pyrsimg import geo2imagexy, imagexy2geo\n",
    "from pyrsimg import readTiff"
   ]
  },
  {
   "cell_type": "code",
   "execution_count": 2,
   "metadata": {},
   "outputs": [
    {
     "name": "stderr",
     "output_type": "stream",
     "text": [
      "/Users/luo/miniconda3/envs/venv-pyrsimg/lib/python3.9/site-packages/osgeo/gdal.py:287: FutureWarning: Neither gdal.UseExceptions() nor gdal.DontUseExceptions() has been explicitly called. In GDAL 4.0, exceptions will be enabled by default.\n",
      "  warnings.warn(\n",
      "ERROR 4: docs/source/examples/data/l8_scene_05.tif: No such file or directory\n"
     ]
    },
    {
     "ename": "AttributeError",
     "evalue": "'NoneType' object has no attribute 'GetGeoTransform'",
     "output_type": "error",
     "traceback": [
      "\u001b[0;31m---------------------------------------------------------------------------\u001b[0m",
      "\u001b[0;31mAttributeError\u001b[0m                            Traceback (most recent call last)",
      "Cell \u001b[0;32mIn[2], line 2\u001b[0m\n\u001b[1;32m      1\u001b[0m path_img \u001b[38;5;241m=\u001b[39m \u001b[38;5;124m'\u001b[39m\u001b[38;5;124mdocs/source/examples/data/l8_scene_05.tif\u001b[39m\u001b[38;5;124m'\u001b[39m\n\u001b[0;32m----> 2\u001b[0m img_ins \u001b[38;5;241m=\u001b[39m \u001b[43mreadTiff\u001b[49m\u001b[43m(\u001b[49m\u001b[43mpath_in\u001b[49m\u001b[38;5;241;43m=\u001b[39;49m\u001b[43mpath_img\u001b[49m\u001b[43m)\u001b[49m\n",
      "File \u001b[0;32m~/Library/CloudStorage/OneDrive-Personal/GitHub/pyrsimg/pyrsimg/rsimg_io.py:24\u001b[0m, in \u001b[0;36mreadTiff.__init__\u001b[0;34m(self, path_in)\u001b[0m\n\u001b[1;32m     22\u001b[0m \u001b[38;5;28;01mdef\u001b[39;00m \u001b[38;5;21m__init__\u001b[39m(\u001b[38;5;28mself\u001b[39m, path_in):\n\u001b[1;32m     23\u001b[0m     RS_Data\u001b[38;5;241m=\u001b[39mgdal\u001b[38;5;241m.\u001b[39mOpen(path_in)\n\u001b[0;32m---> 24\u001b[0m     \u001b[38;5;28mself\u001b[39m\u001b[38;5;241m.\u001b[39mgeotrans \u001b[38;5;241m=\u001b[39m \u001b[43mRS_Data\u001b[49m\u001b[38;5;241;43m.\u001b[39;49m\u001b[43mGetGeoTransform\u001b[49m()  \u001b[38;5;66;03m# \u001b[39;00m\n\u001b[1;32m     25\u001b[0m     \u001b[38;5;28mself\u001b[39m\u001b[38;5;241m.\u001b[39mrow \u001b[38;5;241m=\u001b[39m RS_Data\u001b[38;5;241m.\u001b[39mRasterYSize\n\u001b[1;32m     26\u001b[0m     \u001b[38;5;28mself\u001b[39m\u001b[38;5;241m.\u001b[39mcol \u001b[38;5;241m=\u001b[39m RS_Data\u001b[38;5;241m.\u001b[39mRasterXSize  \u001b[38;5;66;03m# \u001b[39;00m\n",
      "\u001b[0;31mAttributeError\u001b[0m: 'NoneType' object has no attribute 'GetGeoTransform'"
     ]
    }
   ],
   "source": [
    "path_img = 'docs/source/examples/data/l8_scene_05.tif'\n",
    "img_ins = readTiff(path_in=path_img)\n"
   ]
  },
  {
   "cell_type": "code",
   "execution_count": 3,
   "metadata": {},
   "outputs": [
    {
     "name": "stdout",
     "output_type": "stream",
     "text": [
      "utm zone: 53\n"
     ]
    }
   ],
   "source": [
    "lon = 134\n",
    "utm_zone = get_utm_zone(lon=lon)\n",
    "print('utm zone:',utm_zone)"
   ]
  },
  {
   "cell_type": "code",
   "execution_count": 19,
   "metadata": {},
   "outputs": [
    {
     "name": "stdout",
     "output_type": "stream",
     "text": [
      "(358155.0, 408855.0, 1673985.0, 1716285.0)\n"
     ]
    }
   ],
   "source": [
    "print(img_ins.geoextent)\n",
    "left, bottom = img_ins.geoextent[0], img_ins.geoextent[2]"
   ]
  },
  {
   "cell_type": "code",
   "execution_count": 20,
   "metadata": {},
   "outputs": [
    {
     "name": "stdout",
     "output_type": "stream",
     "text": [
      "POINT Z (-4.32014391996203 15.1377171383077 0)\n",
      "-4.3201439199620335 15.137717138307666\n"
     ]
    }
   ],
   "source": [
    "lon, lat = coor2coor(srs_from=img_ins.epsg_code, srs_to='4326', x=left, y=bottom)\n",
    "print(lon, lat)"
   ]
  },
  {
   "cell_type": "code",
   "execution_count": 22,
   "metadata": {},
   "outputs": [
    {
     "name": "stdout",
     "output_type": "stream",
     "text": [
      "(1410, 1690, 6)\n",
      "1410 1690\n"
     ]
    }
   ],
   "source": [
    "row, col = geo2imagexy(x=408855.0, y=1673985.0, gdal_trans=img_ins.geotrans, integer=True)\n",
    "print(img_ins.array.shape)\n",
    "print(row, col)\n"
   ]
  },
  {
   "cell_type": "code",
   "execution_count": 27,
   "metadata": {},
   "outputs": [
    {
     "name": "stdout",
     "output_type": "stream",
     "text": [
      "408855.0 1673985.0\n"
     ]
    }
   ],
   "source": [
    "x, y = imagexy2geo(row=1410, col=1690, gdal_trans=img_ins.geotrans)\n",
    "print(x, y)\n",
    "\n"
   ]
  }
 ],
 "metadata": {
  "kernelspec": {
   "display_name": "venv-pyrsimg",
   "language": "python",
   "name": "python3"
  },
  "language_info": {
   "codemirror_mode": {
    "name": "ipython",
    "version": 3
   },
   "file_extension": ".py",
   "mimetype": "text/x-python",
   "name": "python",
   "nbconvert_exporter": "python",
   "pygments_lexer": "ipython3",
   "version": "3.9.18"
  }
 },
 "nbformat": 4,
 "nbformat_minor": 2
}