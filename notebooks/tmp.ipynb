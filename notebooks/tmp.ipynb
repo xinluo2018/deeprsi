{
 "metadata": {
  "language_info": {
   "codemirror_mode": {
    "name": "ipython",
    "version": 3
   },
   "file_extension": ".py",
   "mimetype": "text/x-python",
   "name": "python",
   "nbconvert_exporter": "python",
   "pygments_lexer": "ipython3",
   "version": "3.6.13"
  },
  "orig_nbformat": 2,
  "kernelspec": {
   "name": "python3",
   "display_name": "Python 3.6.13 64-bit ('venv': conda)"
  },
  "interpreter": {
   "hash": "9fcd11040269ff8a468a26bab548888089e1e15f5655977e7680097ba56865af"
  }
 },
 "nbformat": 4,
 "nbformat_minor": 2,
 "cells": [
  {
   "cell_type": "code",
   "execution_count": 1,
   "metadata": {},
   "outputs": [],
   "source": [
    "import sys\n",
    "import config\n",
    "sys.path.append(config.root)\n",
    "from utils.geotif_io import readTiff, writeTiff\n",
    "from utils.imgShow import imgShow, imsShow\n",
    "import matplotlib.pyplot as plt\n",
    "from utils.imgxy_convert import imagexy2geo\n",
    "from utils.coorxy_convert import coordxy_convert\n",
    "from osgeo import osr\n",
    "from osgeo import gdal\n",
    "import numpy as np\n"
   ]
  },
  {
   "cell_type": "code",
   "execution_count": 6,
   "metadata": {},
   "outputs": [
    {
     "output_type": "execute_result",
     "data": {
      "text/plain": [
       "{'geoextent': (358155.0, 408855.0, 1673985.0, 1716285.0),\n",
       " 'geotrans': (358155.0, 30.0, 0.0, 1716285.0, 0.0, -30.0),\n",
       " 'geosrs': '32630',\n",
       " 'row': 1410,\n",
       " 'col': 1690,\n",
       " 'bands': 6}"
      ]
     },
     "metadata": {},
     "execution_count": 6
    }
   ],
   "source": [
    "path_rsimg = config.root+'/data/l8_scene_05.tif'\n",
    "img, img_info = readTiff(path_rsimg)\n",
    "img.shape\n",
    "img_info"
   ]
  },
  {
   "cell_type": "code",
   "execution_count": 7,
   "metadata": {},
   "outputs": [
    {
     "output_type": "stream",
     "name": "stdout",
     "text": [
      "358215.0 1716225.0\n"
     ]
    }
   ],
   "source": [
    "proj_x, proj_y = imagexy2geo(row=2, col=2, gdal_trans=img_info['geotrans'])\n",
    "print(proj_x, proj_y)\n",
    "\n"
   ]
  },
  {
   "cell_type": "code",
   "execution_count": 8,
   "metadata": {},
   "outputs": [
    {
     "output_type": "stream",
     "name": "stdout",
     "text": [
      "15.519508721377628 -4.321983428322664\n"
     ]
    }
   ],
   "source": [
    "lon_2, lat_2 = coordxy_convert(proj1=32630, proj2=4326, x=proj_x, y=proj_y)\n",
    "print(lon_2, lat_2)\n",
    "\n",
    "\n"
   ]
  }
 ]
}