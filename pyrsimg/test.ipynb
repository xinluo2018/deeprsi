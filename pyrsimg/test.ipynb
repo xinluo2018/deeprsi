{
 "cells": [
  {
   "cell_type": "code",
   "execution_count": 1,
   "metadata": {},
   "outputs": [
    {
     "ename": "ModuleNotFoundError",
     "evalue": "No module named 'matplotlib'",
     "output_type": "error",
     "traceback": [
      "\u001b[0;31m---------------------------------------------------------------------------\u001b[0m",
      "\u001b[0;31mModuleNotFoundError\u001b[0m                       Traceback (most recent call last)",
      "\u001b[1;32m/Users/luo/Library/CloudStorage/OneDrive-Personal/GitHub/pyrsimg/pyrsimg/test.ipynb Cell 1\u001b[0m line \u001b[0;36m4\n\u001b[1;32m      <a href='vscode-notebook-cell:/Users/luo/Library/CloudStorage/OneDrive-Personal/GitHub/pyrsimg/pyrsimg/test.ipynb#W0sZmlsZQ%3D%3D?line=1'>2</a>\u001b[0m \u001b[39mfrom\u001b[39;00m \u001b[39mosgeo\u001b[39;00m \u001b[39mimport\u001b[39;00m ogr, gdal, osr\n\u001b[1;32m      <a href='vscode-notebook-cell:/Users/luo/Library/CloudStorage/OneDrive-Personal/GitHub/pyrsimg/pyrsimg/test.ipynb#W0sZmlsZQ%3D%3D?line=2'>3</a>\u001b[0m \u001b[39mimport\u001b[39;00m \u001b[39mos\u001b[39;00m\n\u001b[0;32m----> <a href='vscode-notebook-cell:/Users/luo/Library/CloudStorage/OneDrive-Personal/GitHub/pyrsimg/pyrsimg/test.ipynb#W0sZmlsZQ%3D%3D?line=3'>4</a>\u001b[0m \u001b[39mimport\u001b[39;00m \u001b[39mpyrsimg\u001b[39;00m\n",
      "File \u001b[0;32m~/Library/CloudStorage/OneDrive-Personal/GitHub/pyrsimg/pyrsimg/__init__.py:5\u001b[0m\n\u001b[1;32m      3\u001b[0m \u001b[39mfrom\u001b[39;00m \u001b[39mpyrsimg\u001b[39;00m\u001b[39m.\u001b[39;00m\u001b[39mimg_normalize\u001b[39;00m \u001b[39mimport\u001b[39;00m \u001b[39m*\u001b[39m\n\u001b[1;32m      4\u001b[0m \u001b[39mfrom\u001b[39;00m \u001b[39mpyrsimg\u001b[39;00m\u001b[39m.\u001b[39;00m\u001b[39mimg2patch\u001b[39;00m \u001b[39mimport\u001b[39;00m \u001b[39m*\u001b[39m\n\u001b[0;32m----> 5\u001b[0m \u001b[39mfrom\u001b[39;00m \u001b[39mpyrsimg\u001b[39;00m\u001b[39m.\u001b[39;00m\u001b[39mimgShow\u001b[39;00m \u001b[39mimport\u001b[39;00m \u001b[39m*\u001b[39m\n\u001b[1;32m      6\u001b[0m \u001b[39mfrom\u001b[39;00m \u001b[39mpyrsimg\u001b[39;00m\u001b[39m.\u001b[39;00m\u001b[39mlay_stack\u001b[39;00m \u001b[39mimport\u001b[39;00m \u001b[39m*\u001b[39m\n\u001b[1;32m      7\u001b[0m \u001b[39mfrom\u001b[39;00m \u001b[39mpyrsimg\u001b[39;00m\u001b[39m.\u001b[39;00m\u001b[39mmetric_proc\u001b[39;00m \u001b[39mimport\u001b[39;00m \u001b[39m*\u001b[39m\n",
      "File \u001b[0;32m~/Library/CloudStorage/OneDrive-Personal/GitHub/pyrsimg/pyrsimg/imgShow.py:6\u001b[0m\n\u001b[1;32m      1\u001b[0m \u001b[39m## author: xin luo\u001b[39;00m\n\u001b[1;32m      2\u001b[0m \u001b[39m## create: 2020, modify: 2023.8.18\u001b[39;00m\n\u001b[1;32m      3\u001b[0m \u001b[39m## des: remote sensing image visualization\u001b[39;00m\n\u001b[0;32m----> 6\u001b[0m \u001b[39mimport\u001b[39;00m \u001b[39mmatplotlib\u001b[39;00m\u001b[39m.\u001b[39;00m\u001b[39mpyplot\u001b[39;00m \u001b[39mas\u001b[39;00m \u001b[39mplt\u001b[39;00m\n\u001b[1;32m      7\u001b[0m \u001b[39mimport\u001b[39;00m \u001b[39mnumpy\u001b[39;00m \u001b[39mas\u001b[39;00m \u001b[39mnp\u001b[39;00m\n\u001b[1;32m     10\u001b[0m \u001b[39mdef\u001b[39;00m \u001b[39mimgShow\u001b[39m(img, ax\u001b[39m=\u001b[39m\u001b[39mNone\u001b[39;00m, extent\u001b[39m=\u001b[39m\u001b[39mNone\u001b[39;00m, color_bands\u001b[39m=\u001b[39m(\u001b[39m2\u001b[39m,\u001b[39m1\u001b[39m,\u001b[39m0\u001b[39m), \\\n\u001b[1;32m     11\u001b[0m                 clip_percent\u001b[39m=\u001b[39m\u001b[39m2\u001b[39m, per_band_clip\u001b[39m=\u001b[39m\u001b[39mFalse\u001b[39;00m, focus_per\u001b[39m=\u001b[39m\u001b[39mNone\u001b[39;00m, focus_pix\u001b[39m=\u001b[39m\u001b[39mNone\u001b[39;00m):\n",
      "\u001b[0;31mModuleNotFoundError\u001b[0m: No module named 'matplotlib'"
     ]
    }
   ],
   "source": [
    "import numpy as np\n",
    "from osgeo import ogr, gdal, osr\n",
    "import os\n",
    "import pyrsimg\n",
    "\n"
   ]
  },
  {
   "cell_type": "code",
   "execution_count": 5,
   "metadata": {},
   "outputs": [],
   "source": [
    "path_raster = 'docs/source/examples/data/l8_scene_05_truth.tif'\n",
    "path_save = 'tmp.shp'\n",
    "dn_values = [1]\n"
   ]
  },
  {
   "cell_type": "code",
   "execution_count": 6,
   "metadata": {},
   "outputs": [],
   "source": [
    "def raster2vec(path_raster, path_save, dn_values):\n",
    "    ''' \n",
    "    des: Read input band with Rasterio\n",
    "    input:\n",
    "        raster_path, output_path: raster and ouput vector path\n",
    "        dn_values: list, consist of the raster value to be vectorization\n",
    "    return:\n",
    "        vector (gpkg format) written to the given path.\n",
    "    '''\n",
    "    raster_ds = gdal.Open(path_raster)\n",
    "    raster_band = raster_ds.GetRasterBand(1)\n",
    "    raster_srs = osr.SpatialReference()\n",
    "    raster_srs.ImportFromWkt(raster_ds.GetProjection())\n",
    "    #  create output datasource\n",
    "    dst_layername = \"polygon\"\n",
    "    drv = ogr.GetDriverByName('ESRI Shapefile')\n",
    "    dst_ds = drv.CreateDataSource(path_save)\n",
    "    dst_layer = dst_ds.CreateLayer(dst_layername, geom_type=ogr.wkbPolygon, srs = raster_srs)\n",
    "    newField = ogr.FieldDefn('DN', ogr.OFTInteger)\n",
    "    dst_layer.CreateField(newField)\n",
    "    dst_field = dst_layer.GetLayerDefn().GetFieldIndex('DN')\n",
    "    print(dst_layer.GetFeatureCount())\n",
    "    gdal.Polygonize(raster_band, None, dst_layer, dst_field, [])\n",
    "    print(dst_layer.GetFeatureCount())\n",
    "    for i in range(dst_layer.GetFeatureCount()):\n",
    "      fea = dst_layer.GetFeature(i)\n",
    "      if fea.GetField('DN') not in dn_values:\n",
    "        dst_layer.DeleteFeature(i)\n",
    "    dst_ds = None\n",
    "\n"
   ]
  },
  {
   "cell_type": "code",
   "execution_count": 8,
   "metadata": {},
   "outputs": [
    {
     "name": "stdout",
     "output_type": "stream",
     "text": [
      "0\n",
      "206\n"
     ]
    }
   ],
   "source": [
    "raster2vec(path_raster, path_save, dn_values)\n",
    "\n"
   ]
  }
 ],
 "metadata": {
  "kernelspec": {
   "display_name": "venv-pyrsimg",
   "language": "python",
   "name": "python3"
  },
  "language_info": {
   "codemirror_mode": {
    "name": "ipython",
    "version": 3
   },
   "file_extension": ".py",
   "mimetype": "text/x-python",
   "name": "python",
   "nbconvert_exporter": "python",
   "pygments_lexer": "ipython3",
   "version": "3.9.18"
  },
  "orig_nbformat": 4
 },
 "nbformat": 4,
 "nbformat_minor": 2
}
